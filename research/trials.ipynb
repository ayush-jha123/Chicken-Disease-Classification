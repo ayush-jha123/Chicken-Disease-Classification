{
 "cells": [
  {
   "cell_type": "code",
   "execution_count": null,
   "id": "292fe7a7",
   "metadata": {},
   "outputs": [
    {
     "data": {
      "text/plain": [
       "'value'"
      ]
     },
     "execution_count": 1,
     "metadata": {},
     "output_type": "execute_result"
    }
   ],
   "source": [
    "from box import ConfigBox\n",
    "d=ConfigBox({\"key\":\"value\"})\n",
    "d.key\n",
    "#using configBox i can directly access value by d.key unlike in plan dict we have to do using []\n"
   ]
  },
  {
   "cell_type": "code",
   "execution_count": 2,
   "id": "acc4815a",
   "metadata": {},
   "outputs": [],
   "source": [
    "#in order to make sure annotations(return type,variables) are not ignored and give unexpected output we use ensure_annotations\n",
    "from ensure import ensure_annotations\n",
    "\n",
    "@ensure_annotations\n",
    "def get_product(x:int,y:int)->int:\n",
    "    return x*y"
   ]
  },
  {
   "cell_type": "code",
   "execution_count": 3,
   "id": "9e480e1d",
   "metadata": {},
   "outputs": [
    {
     "data": {
      "text/plain": [
       "8"
      ]
     },
     "execution_count": 3,
     "metadata": {},
     "output_type": "execute_result"
    }
   ],
   "source": [
    "get_product(x=2,y=4)"
   ]
  },
  {
   "cell_type": "code",
   "execution_count": null,
   "id": "53d06450",
   "metadata": {},
   "outputs": [],
   "source": [
    "get_product(x=2,y=\"4\")#thisgives error now"
   ]
  },
  {
   "cell_type": "code",
   "execution_count": null,
   "id": "a06a6d96",
   "metadata": {},
   "outputs": [],
   "source": []
  }
 ],
 "metadata": {
  "kernelspec": {
   "display_name": "MachineLearning",
   "language": "python",
   "name": "python3"
  },
  "language_info": {
   "codemirror_mode": {
    "name": "ipython",
    "version": 3
   },
   "file_extension": ".py",
   "mimetype": "text/x-python",
   "name": "python",
   "nbconvert_exporter": "python",
   "pygments_lexer": "ipython3",
   "version": "3.11.9"
  }
 },
 "nbformat": 4,
 "nbformat_minor": 5
}
